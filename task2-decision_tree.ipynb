{
 "cells": [
  {
   "cell_type": "code",
   "execution_count": 1,
   "id": "d9a13841",
   "metadata": {
    "_cell_guid": "b1076dfc-b9ad-4769-8c92-a6c4dae69d19",
    "_uuid": "8f2839f25d086af736a60e9eeb907d3b93b6e0e5",
    "execution": {
     "iopub.execute_input": "2023-02-06T18:33:52.712985Z",
     "iopub.status.busy": "2023-02-06T18:33:52.711863Z",
     "iopub.status.idle": "2023-02-06T18:33:52.734472Z",
     "shell.execute_reply": "2023-02-06T18:33:52.733255Z"
    },
    "papermill": {
     "duration": 0.031868,
     "end_time": "2023-02-06T18:33:52.737445",
     "exception": false,
     "start_time": "2023-02-06T18:33:52.705577",
     "status": "completed"
    },
    "tags": []
   },
   "outputs": [
    {
     "name": "stdout",
     "output_type": "stream",
     "text": [
      "/kaggle/input/heart-disease-dataset/heart.csv\n"
     ]
    }
   ],
   "source": [
    "# This Python 3 environment comes with many helpful analytics libraries installed\n",
    "# It is defined by the kaggle/python Docker image: https://github.com/kaggle/docker-python\n",
    "# For example, here's several helpful packages to load\n",
    "\n",
    "import numpy as np # linear algebra\n",
    "import pandas as pd # data processing, CSV file I/O (e.g. pd.read_csv)\n",
    "\n",
    "# Input data files are available in the read-only \"../input/\" directory\n",
    "# For example, running this (by clicking run or pressing Shift+Enter) will list all files under the input directory\n",
    "\n",
    "import os\n",
    "for dirname, _, filenames in os.walk('/kaggle/input'):\n",
    "    for filename in filenames:\n",
    "        print(os.path.join(dirname, filename))\n",
    "\n",
    "# You can write up to 20GB to the current directory (/kaggle/working/) that gets preserved as output when you create a version using \"Save & Run All\" \n",
    "# You can also write temporary files to /kaggle/temp/, but they won't be saved outside of the current session"
   ]
  },
  {
   "cell_type": "code",
   "execution_count": 2,
   "id": "3e721f8d",
   "metadata": {
    "execution": {
     "iopub.execute_input": "2023-02-06T18:33:52.745043Z",
     "iopub.status.busy": "2023-02-06T18:33:52.744356Z",
     "iopub.status.idle": "2023-02-06T18:33:54.338410Z",
     "shell.execute_reply": "2023-02-06T18:33:54.337101Z"
    },
    "papermill": {
     "duration": 1.601012,
     "end_time": "2023-02-06T18:33:54.341421",
     "exception": false,
     "start_time": "2023-02-06T18:33:52.740409",
     "status": "completed"
    },
    "tags": []
   },
   "outputs": [],
   "source": [
    "from sklearn.tree import DecisionTreeClassifier\n",
    "from sklearn.model_selection import train_test_split\n",
    "from sklearn.metrics import confusion_matrix\n",
    "from sklearn.metrics import accuracy_score\n",
    "from sklearn.metrics import classification_report\n",
    "import seaborn as sns"
   ]
  },
  {
   "cell_type": "code",
   "execution_count": 3,
   "id": "b05b7738",
   "metadata": {
    "execution": {
     "iopub.execute_input": "2023-02-06T18:33:54.348529Z",
     "iopub.status.busy": "2023-02-06T18:33:54.348107Z",
     "iopub.status.idle": "2023-02-06T18:33:54.371268Z",
     "shell.execute_reply": "2023-02-06T18:33:54.370033Z"
    },
    "papermill": {
     "duration": 0.030067,
     "end_time": "2023-02-06T18:33:54.374266",
     "exception": false,
     "start_time": "2023-02-06T18:33:54.344199",
     "status": "completed"
    },
    "tags": []
   },
   "outputs": [],
   "source": [
    "data = pd.read_csv('/kaggle/input/heart-disease-dataset/heart.csv')"
   ]
  },
  {
   "cell_type": "code",
   "execution_count": 4,
   "id": "16130ad7",
   "metadata": {
    "execution": {
     "iopub.execute_input": "2023-02-06T18:33:54.382056Z",
     "iopub.status.busy": "2023-02-06T18:33:54.380818Z",
     "iopub.status.idle": "2023-02-06T18:33:54.401382Z",
     "shell.execute_reply": "2023-02-06T18:33:54.400151Z"
    },
    "papermill": {
     "duration": 0.027365,
     "end_time": "2023-02-06T18:33:54.404358",
     "exception": false,
     "start_time": "2023-02-06T18:33:54.376993",
     "status": "completed"
    },
    "tags": []
   },
   "outputs": [],
   "source": [
    "y = data[\"target\"]\n",
    "X = data.drop('target',axis=1)\n",
    "X_train, X_test, y_train, y_test = train_test_split(X, y, test_size=0.20, random_state = 0)"
   ]
  },
  {
   "cell_type": "code",
   "execution_count": 5,
   "id": "bc06eb3f",
   "metadata": {
    "execution": {
     "iopub.execute_input": "2023-02-06T18:33:54.411686Z",
     "iopub.status.busy": "2023-02-06T18:33:54.411267Z",
     "iopub.status.idle": "2023-02-06T18:33:54.433146Z",
     "shell.execute_reply": "2023-02-06T18:33:54.431722Z"
    },
    "papermill": {
     "duration": 0.029093,
     "end_time": "2023-02-06T18:33:54.436197",
     "exception": false,
     "start_time": "2023-02-06T18:33:54.407104",
     "status": "completed"
    },
    "tags": []
   },
   "outputs": [
    {
     "name": "stdout",
     "output_type": "stream",
     "text": [
      "\u001b[1mconfussion matrix\n",
      "[[95  3]\n",
      " [ 8 99]]\n",
      "\n",
      "\n",
      "Accuracy of DecisionTreeClassifier:% 94.6341463414634 \n",
      "\n",
      "              precision    recall  f1-score   support\n",
      "\n",
      "           0       0.92      0.97      0.95        98\n",
      "           1       0.97      0.93      0.95       107\n",
      "\n",
      "    accuracy                           0.95       205\n",
      "   macro avg       0.95      0.95      0.95       205\n",
      "weighted avg       0.95      0.95      0.95       205\n",
      "\n"
     ]
    }
   ],
   "source": [
    "dt = DecisionTreeClassifier(criterion = 'entropy',random_state=0,max_depth = 6)\n",
    "dt.fit(X_train, y_train)\n",
    "dt_predicted = dt.predict(X_test)\n",
    "\n",
    "\n",
    "dt_conf_matrix = confusion_matrix(y_test, dt_predicted)\n",
    "dt_acc_score = accuracy_score(y_test, dt_predicted)\n",
    "print('\\033[1m' + \"confussion matrix\")\n",
    "print(dt_conf_matrix)\n",
    "print(\"\\n\")\n",
    "print(\"Accuracy of DecisionTreeClassifier:%\",dt_acc_score*100,'\\n')\n",
    "\n",
    "print(classification_report(y_test,dt_predicted))"
   ]
  },
  {
   "cell_type": "code",
   "execution_count": null,
   "id": "df6c275d",
   "metadata": {
    "papermill": {
     "duration": 0.002416,
     "end_time": "2023-02-06T18:33:54.442042",
     "exception": false,
     "start_time": "2023-02-06T18:33:54.439626",
     "status": "completed"
    },
    "tags": []
   },
   "outputs": [],
   "source": []
  }
 ],
 "metadata": {
  "kernelspec": {
   "display_name": "Python 3",
   "language": "python",
   "name": "python3"
  },
  "language_info": {
   "codemirror_mode": {
    "name": "ipython",
    "version": 3
   },
   "file_extension": ".py",
   "mimetype": "text/x-python",
   "name": "python",
   "nbconvert_exporter": "python",
   "pygments_lexer": "ipython3",
   "version": "3.7.12"
  },
  "papermill": {
   "default_parameters": {},
   "duration": 13.395438,
   "end_time": "2023-02-06T18:33:55.268579",
   "environment_variables": {},
   "exception": null,
   "input_path": "__notebook__.ipynb",
   "output_path": "__notebook__.ipynb",
   "parameters": {},
   "start_time": "2023-02-06T18:33:41.873141",
   "version": "2.3.4"
  }
 },
 "nbformat": 4,
 "nbformat_minor": 5
}
